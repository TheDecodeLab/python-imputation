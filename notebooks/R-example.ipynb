{
 "cells": [
  {
   "cell_type": "code",
   "execution_count": null,
   "id": "d5fd4937",
   "metadata": {},
   "outputs": [],
   "source": [
    "# install.packages(\"reticulate\")"
   ]
  },
  {
   "cell_type": "code",
   "execution_count": null,
   "id": "3ad46068",
   "metadata": {},
   "outputs": [],
   "source": [
    "library(reticulate)"
   ]
  },
  {
   "cell_type": "code",
   "execution_count": null,
   "id": "e24d4295",
   "metadata": {},
   "outputs": [],
   "source": [
    "pympute <- import(\"pympute\")"
   ]
  },
  {
   "cell_type": "code",
   "execution_count": null,
   "id": "a99806aa",
   "metadata": {},
   "outputs": [],
   "source": [
    "df<-read.csv('sample.csv')"
   ]
  },
  {
   "cell_type": "code",
   "execution_count": null,
   "id": "01551093",
   "metadata": {},
   "outputs": [],
   "source": [
    "imp = pympute$Imputer(df,'LR')"
   ]
  },
  {
   "cell_type": "code",
   "execution_count": null,
   "id": "cec60acf",
   "metadata": {},
   "outputs": [],
   "source": [
    "n_it <- as.integer(10)\n",
    "imp$impute(n_it)"
   ]
  },
  {
   "cell_type": "code",
   "execution_count": null,
   "id": "8d6688ab",
   "metadata": {},
   "outputs": [],
   "source": [
    "imp$data_frame"
   ]
  },
  {
   "cell_type": "code",
   "execution_count": 7,
   "id": "6fce31db",
   "metadata": {},
   "outputs": [],
   "source": [
    "imp$dist_all(save='test')"
   ]
  },
  {
   "cell_type": "code",
   "execution_count": null,
   "id": "d5326408",
   "metadata": {},
   "outputs": [],
   "source": [
    "imp.general_report(data_n)"
   ]
  }
 ],
 "metadata": {
  "kernelspec": {
   "display_name": "R",
   "language": "R",
   "name": "ir"
  },
  "language_info": {
   "codemirror_mode": "r",
   "file_extension": ".r",
   "mimetype": "text/x-r-source",
   "name": "R",
   "pygments_lexer": "r",
   "version": "3.6.1"
  }
 },
 "nbformat": 4,
 "nbformat_minor": 5
}
